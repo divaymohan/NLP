{
 "cells": [
  {
   "cell_type": "markdown",
   "metadata": {},
   "source": [
    "# Back to Python : Making Decisions and Taking Control"
   ]
  },
  {
   "cell_type": "code",
   "execution_count": 1,
   "metadata": {},
   "outputs": [
    {
     "name": "stdout",
     "output_type": "stream",
     "text": [
      "*** Introductory Examples for the NLTK Book ***\n",
      "Loading text1, ..., text9 and sent1, ..., sent9\n",
      "Type the name of the text or sentence to view it.\n",
      "Type: 'texts()' or 'sents()' to list the materials.\n",
      "text1: Moby Dick by Herman Melville 1851\n",
      "text2: Sense and Sensibility by Jane Austen 1811\n",
      "text3: The Book of Genesis\n",
      "text4: Inaugural Address Corpus\n",
      "text5: Chat Corpus\n",
      "text6: Monty Python and the Holy Grail\n",
      "text7: Wall Street Journal\n",
      "text8: Personals Corpus\n",
      "text9: The Man Who Was Thursday by G . K . Chesterton 1908\n"
     ]
    }
   ],
   "source": [
    "import nltk\n",
    "from nltk.book import *"
   ]
  },
  {
   "cell_type": "markdown",
   "metadata": {},
   "source": [
    "## Conditionals"
   ]
  },
  {
   "cell_type": "code",
   "execution_count": 2,
   "metadata": {},
   "outputs": [
    {
     "name": "stdout",
     "output_type": "stream",
     "text": [
      "['Pierre', 'Vinken', ',', '61', 'years', 'old', ',', 'will', 'join', 'the', 'board', 'as', 'a', 'nonexecutive', 'director', 'Nov.', '29', '.']\n"
     ]
    }
   ],
   "source": [
    "#from book print sent7 which is already defined\n",
    "print(sent7)"
   ]
  },
  {
   "cell_type": "code",
   "execution_count": 3,
   "metadata": {},
   "outputs": [
    {
     "name": "stdout",
     "output_type": "stream",
     "text": [
      "[',', '61', 'old', ',', 'the', 'as', 'a', '29', '.']\n",
      "[',', '61', 'old', ',', 'will', 'join', 'the', 'as', 'a', 'Nov.', '29', '.']\n",
      "['Pierre', 'Vinken', 'years', 'board', 'nonexecutive', 'director']\n",
      "['Pierre', 'Vinken', 'years', 'will', 'join', 'board', 'nonexecutive', 'director', 'Nov.']\n",
      "['will', 'join', 'Nov.']\n",
      "['Pierre', 'Vinken', ',', '61', 'years', 'old', ',', 'the', 'board', 'as', 'a', 'nonexecutive', 'director', '29', '.']\n"
     ]
    }
   ],
   "source": [
    "#we can use less the conditional operator like\n",
    "#print all the words from sent1 which have length less than 4\n",
    "print([w for w in sent7 if len(w)<4])\n",
    "#print all the words from sent1 which have length less than or equal to 4 \n",
    "print([w for w in sent7 if len(w)<=4])\n",
    "#print all the words from sent1 which have length greater than 4 \n",
    "print([w for w in sent7 if len(w)>4])\n",
    "#print all the words from sent1 which have length greater than or equal to 4 \n",
    "print([w for w in sent7 if len(w)>=4])\n",
    "#print all the words from sent1 which have length equal to 4 \n",
    "print([w for w in sent7 if len(w)==4])\n",
    "#print all the words from sent1 which have length not equal to 4 \n",
    "print([w for w in sent7 if len(w)!=4])"
   ]
  },
  {
   "cell_type": "code",
   "execution_count": 4,
   "metadata": {},
   "outputs": [
    {
     "name": "stdout",
     "output_type": "stream",
     "text": [
      "['the']\n",
      "['Pierre', 'the', 'nonexecutive']\n",
      "['the', 'nonexecutive', 'director']\n",
      "['years', 'old', 'will', 'join', 'the', 'board', 'as', 'a', 'nonexecutive', 'director']\n",
      "[]\n",
      "['Pierre', 'Vinken', 'years', 'old', 'will', 'join', 'the', 'board', 'as', 'a', 'nonexecutive', 'director']\n",
      "['Pierre', 'Vinken', '61', 'years', 'old', 'will', 'join', 'the', 'board', 'as', 'a', 'nonexecutive', 'director', '29']\n",
      "['61', '29']\n",
      "['Pierre', 'Vinken', 'Nov.']\n"
     ]
    }
   ],
   "source": [
    "#some word comparision operator\n",
    "#print all the words from sent7 which starts with t\n",
    "print([w for w in sent7 if w.startswith('t')])\n",
    "#print all the words from sent7 which end with r\n",
    "print([w for w in sent7 if w.endswith('e')])\n",
    "#print all the words from sent7 which contains  t\n",
    "print([w for w in sent7 if 't' in w])\n",
    "#print all the words which have all characters in lower case\n",
    "print([w for w in sent7 if w.islower()])\n",
    "#print all the words which have all characters in upper case\n",
    "print([w for w in sent7 if w.isupper()])\n",
    "#print all the words which have all characters are alphabetic\n",
    "print([w for w in sent7 if w.isalpha()])\n",
    "#print all the words which have all characters are alphaNumeric\n",
    "print([w for w in sent7 if w.isalnum()])\n",
    "#print all the words which have all characters are digit\n",
    "print([w for w in sent7 if w.isdigit()])\n",
    "#print all the words which have Title case(first letter capital)\n",
    "print([w for w in sent7 if w.istitle()])\n"
   ]
  },
  {
   "cell_type": "markdown",
   "metadata": {},
   "source": [
    "### Exercise:"
   ]
  },
  {
   "cell_type": "code",
   "execution_count": 5,
   "metadata": {},
   "outputs": [
    {
     "name": "stdout",
     "output_type": "stream",
     "text": [
      "['Stock-index', 'index-arbitrage', 'index-fund', 'index-options', 'index-related', 'stock-index']\n",
      "\n",
      "\n",
      "['Abelmizraim', 'Allonbachuth', 'Beerlahairoi', 'Canaanitish', 'Chedorlaomer', 'Girgashites', 'Hazarmaveth', 'Hazezontamar', 'Ishmeelites', 'Jegarsahadutha', 'Jehovahjireh', 'Kirjatharba', 'Melchizedek', 'Mesopotamia', 'Peradventure', 'Philistines', 'Zaphnathpaaneah']\n",
      "\n",
      "\n",
      "[',', '.', '29', '61', 'Nov.', 'Pierre', 'Vinken']\n",
      "\n",
      "\n",
      "['ancient', 'ceiling', 'conceit', 'conceited', 'conceive', 'conscience', 'conscientious', 'conscientiously', 'deceitful', 'deceive', 'deceived', 'deceiving', 'deficiencies', 'deficiency', 'deficient', 'delicacies', 'excellencies', 'fancied', 'insufficiency', 'insufficient', 'legacies', 'perceive', 'perceived', 'perceiving', 'prescience', 'prophecies', 'receipt', 'receive', 'received', 'receiving', 'society', 'species', 'sufficient', 'sufficiently', 'undeceive', 'undeceiving']\n"
     ]
    }
   ],
   "source": [
    "print(sorted([w for w in set(text7) if '-' in w and 'index' in w]))\n",
    "print(\"\\n\")\n",
    "print(sorted([w for w in set(text3) if w.istitle() and len(w)>10]))\n",
    "print(\"\\n\")\n",
    "print(sorted([w for w in set(sent7) if not w.islower()]))\n",
    "print(\"\\n\")\n",
    "print(sorted([w for w in set(text2) if 'cie' in w or 'cei'in w]))"
   ]
  },
  {
   "cell_type": "markdown",
   "metadata": {},
   "source": [
    "## Operating on Every Element"
   ]
  },
  {
   "cell_type": "markdown",
   "metadata": {},
   "source": [
    "### List comprehension"
   ]
  },
  {
   "cell_type": "code",
   "execution_count": 8,
   "metadata": {},
   "outputs": [
    {
     "name": "stdout",
     "output_type": "stream",
     "text": [
      "['[', 'MOBY', 'DICK', 'BY', 'HERMAN', 'MELVILLE', '1851', ']', 'ETYMOLOGY', '.']\n"
     ]
    }
   ],
   "source": [
    "#change the all words in text1 in upper case and print first 10 words?\n",
    "ulist = [w.upper() for w in text1]\n",
    "print(ulist[:10])\n",
    "\n",
    "##General Form\n",
    "#[w.f() or f(w) for w in ....]"
   ]
  },
  {
   "cell_type": "code",
   "execution_count": 9,
   "metadata": {},
   "outputs": [
    {
     "name": "stdout",
     "output_type": "stream",
     "text": [
      "19317\n",
      "17231\n",
      "difference:: 2086\n"
     ]
    }
   ],
   "source": [
    "#find the differance between unique number of words in text1 and unique number of words after converting them into lower case?\n",
    "l1 = len(set(text1))\n",
    "l2 = len(set([w.lower() for w in text1]))\n",
    "print(l1)\n",
    "print(l2)\n",
    "print(\"difference:: {}\".format(l1-l2))"
   ]
  },
  {
   "cell_type": "code",
   "execution_count": 11,
   "metadata": {},
   "outputs": [
    {
     "name": "stdout",
     "output_type": "stream",
     "text": [
      "All unique alphanumeric words:: 16948\n"
     ]
    }
   ],
   "source": [
    "#find all the uniqeue words from text1 with lower and uppercase as one and also remove the punctuations.\n",
    "l1 = len(set([w.lower() for w in text1 if w.isalpha()]))\n",
    "print(\"All unique alphanumeric words:: {}\".format(l1))"
   ]
  },
  {
   "cell_type": "markdown",
   "metadata": {},
   "source": [
    "## Nested Code Blocks"
   ]
  },
  {
   "cell_type": "code",
   "execution_count": 12,
   "metadata": {},
   "outputs": [
    {
     "name": "stdout",
     "output_type": "stream",
     "text": [
      "divay\n",
      "mohan\n",
      "diksha\n",
      "rajput\n"
     ]
    }
   ],
   "source": [
    "#easy one \n",
    "for word in ['divay','mohan','diksha','rajput']:\n",
    "    print(word)"
   ]
  },
  {
   "cell_type": "markdown",
   "metadata": {},
   "source": [
    "## Looping with condition"
   ]
  },
  {
   "cell_type": "code",
   "execution_count": 16,
   "metadata": {},
   "outputs": [
    {
     "name": "stdout",
     "output_type": "stream",
     "text": [
      "Call\n"
     ]
    }
   ],
   "source": [
    "#print all the words from a list which ends with 'l'\n",
    "sent1 = ['Call','me','if','you','are','free','.','Divay','Here']\n",
    "for xyzzy in sent1:\n",
    "    if xyzzy.endswith('l'):\n",
    "        print(xyzzy)\n"
   ]
  },
  {
   "cell_type": "code",
   "execution_count": 18,
   "metadata": {},
   "outputs": [
    {
     "name": "stdout",
     "output_type": "stream",
     "text": [
      "Call is a titlecase\n",
      "me is a lowercase\n",
      "if is a lowercase\n",
      "you is a lowercase\n",
      "are is a lowercase\n",
      "free is a lowercase\n",
      ". is a Punctuation\n",
      "Divay is a titlecase\n",
      "Here is a titlecase\n"
     ]
    }
   ],
   "source": [
    "#print info about every word if it is lowercase,punctuation or titlecase\n",
    "for token in sent1:\n",
    "    if token.islower():\n",
    "        print('{} is a lowercase'.format(token))\n",
    "    elif token.istitle():\n",
    "        print('{} is a titlecase'.format(token))\n",
    "    else:\n",
    "        print('{} is a Punctuation'.format(token))"
   ]
  },
  {
   "cell_type": "code",
   "execution_count": null,
   "metadata": {},
   "outputs": [],
   "source": []
  }
 ],
 "metadata": {
  "kernelspec": {
   "display_name": "Python 3",
   "language": "python",
   "name": "python3"
  },
  "language_info": {
   "codemirror_mode": {
    "name": "ipython",
    "version": 3
   },
   "file_extension": ".py",
   "mimetype": "text/x-python",
   "name": "python",
   "nbconvert_exporter": "python",
   "pygments_lexer": "ipython3",
   "version": "3.7.3"
  }
 },
 "nbformat": 4,
 "nbformat_minor": 2
}
