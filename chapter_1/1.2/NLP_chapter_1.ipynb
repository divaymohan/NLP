{
 "cells": [
  {
   "cell_type": "markdown",
   "metadata": {},
   "source": [
    "# Closer Look at python"
   ]
  },
  {
   "cell_type": "markdown",
   "metadata": {},
   "source": [
    "## List"
   ]
  },
  {
   "cell_type": "code",
   "execution_count": 3,
   "metadata": {},
   "outputs": [
    {
     "name": "stdout",
     "output_type": "stream",
     "text": [
      "*** Introductory Examples for the NLTK Book ***\n",
      "Loading text1, ..., text9 and sent1, ..., sent9\n",
      "Type the name of the text or sentence to view it.\n",
      "Type: 'texts()' or 'sents()' to list the materials.\n",
      "text1: Moby Dick by Herman Melville 1851\n",
      "text2: Sense and Sensibility by Jane Austen 1811\n",
      "text3: The Book of Genesis\n",
      "text4: Inaugural Address Corpus\n",
      "text5: Chat Corpus\n",
      "text6: Monty Python and the Holy Grail\n",
      "text7: Wall Street Journal\n",
      "text8: Personals Corpus\n",
      "text9: The Man Who Was Thursday by G . K . Chesterton 1908\n"
     ]
    }
   ],
   "source": [
    "import nltk\n",
    "from nltk.book import *"
   ]
  },
  {
   "cell_type": "code",
   "execution_count": 4,
   "metadata": {},
   "outputs": [],
   "source": [
    "#sentance in python\n",
    "sent1 = ['call','me','Divay','Mohan','.']\n"
   ]
  },
  {
   "cell_type": "code",
   "execution_count": 6,
   "metadata": {},
   "outputs": [
    {
     "data": {
      "text/plain": [
       "5"
      ]
     },
     "execution_count": 6,
     "metadata": {},
     "output_type": "execute_result"
    }
   ],
   "source": [
    "#calculate the length of sent1\n",
    "len(sent1)"
   ]
  },
  {
   "cell_type": "code",
   "execution_count": 8,
   "metadata": {},
   "outputs": [],
   "source": [
    "#function to calculate the diversity of the given text\n",
    "def lexical_diversity(text):\n",
    "    return len(text)/len(set(text))"
   ]
  },
  {
   "cell_type": "code",
   "execution_count": 10,
   "metadata": {},
   "outputs": [
    {
     "data": {
      "text/plain": [
       "1.0"
      ]
     },
     "execution_count": 10,
     "metadata": {},
     "output_type": "execute_result"
    }
   ],
   "source": [
    "#call the function lexical diversity\n",
    "lexical_diversity(sent1)"
   ]
  },
  {
   "cell_type": "code",
   "execution_count": 13,
   "metadata": {},
   "outputs": [
    {
     "name": "stdout",
     "output_type": "stream",
     "text": [
      "['The', 'family', 'of', 'Dashwood', 'had', 'long', 'been', 'settled', 'in', 'Sussex', '.']\n"
     ]
    }
   ],
   "source": [
    "#sentance for text2\n",
    "print(sent2)"
   ]
  },
  {
   "cell_type": "code",
   "execution_count": 14,
   "metadata": {},
   "outputs": [
    {
     "name": "stdout",
     "output_type": "stream",
     "text": [
      "['In', 'the', 'beginning', 'God', 'created', 'the', 'heaven', 'and', 'the', 'earth', '.']\n"
     ]
    }
   ],
   "source": [
    "print(sent3)"
   ]
  },
  {
   "cell_type": "code",
   "execution_count": 26,
   "metadata": {},
   "outputs": [
    {
     "name": "stdout",
     "output_type": "stream",
     "text": [
      "original list is ::\n",
      "['my', 'self', 'divay', 'mohan', 'and', 'i', 'am', 'beginner', 'to', 'everything', '.', 'thanks', 'for', 'all', 'your', 'support']\n",
      "sorted list is :: \n",
      "['.', 'all', 'am', 'and', 'beginner', 'divay', 'everything', 'for', 'i', 'mohan', 'my', 'self', 'support', 'thanks', 'to', 'your']\n",
      "length ::\n",
      "16\n",
      "Distinct ::\n",
      "{'divay', 'beginner', 'your', 'support', 'for', 'all', 'my', 'to', 'self', 'i', 'am', 'and', 'mohan', 'thanks', 'everything', '.'}\n"
     ]
    }
   ],
   "source": [
    "#lets make your own sentance and apply all the operations\n",
    "ex1 = ['my','self','divay','mohan','and','i','am','beginner','to','everything','.','thanks','for','all','your','support']\n",
    "#print original\n",
    "print(\"original list is ::\")\n",
    "print(ex1)\n",
    "#print sorted\n",
    "print(\"sorted list is :: \")\n",
    "print(sorted(ex1))\n",
    "#print length\n",
    "print(\"length ::\")\n",
    "print(len(ex1))\n",
    "#print all distinct words in given sentance\n",
    "print(\"Distinct ::\")\n",
    "print(set(ex1))"
   ]
  },
  {
   "cell_type": "code",
   "execution_count": 27,
   "metadata": {},
   "outputs": [
    {
     "name": "stdout",
     "output_type": "stream",
     "text": [
      "['i', 'am', 'divay', 'mohan', 'and', 'i', 'am', 'beginner', 'to', 'everything', '.', 'thanks', 'for', 'all', 'your', 'support']\n"
     ]
    }
   ],
   "source": [
    "#concatination of two strings in python\n",
    "print(['i','am'] + ex1[2:])"
   ]
  },
  {
   "cell_type": "code",
   "execution_count": 28,
   "metadata": {},
   "outputs": [
    {
     "name": "stdout",
     "output_type": "stream",
     "text": [
      "['my', 'self', 'divay', 'mohan', 'and', 'i', 'am', 'beginner', 'to', 'everything', '.', 'thanks', 'for', 'all', 'your', 'support', 'bye !']\n"
     ]
    }
   ],
   "source": [
    "#append one word to the ex1\n",
    "ex1.append('bye !')\n",
    "print(ex1)"
   ]
  },
  {
   "cell_type": "code",
   "execution_count": 29,
   "metadata": {},
   "outputs": [
    {
     "data": {
      "text/plain": [
       "173"
      ]
     },
     "execution_count": 29,
     "metadata": {},
     "output_type": "execute_result"
    }
   ],
   "source": [
    "#index of a text in the given text list.\n",
    "text4.index('awaken')"
   ]
  },
  {
   "cell_type": "code",
   "execution_count": 35,
   "metadata": {},
   "outputs": [
    {
     "data": {
      "text/plain": [
       "['U86', 'thats']"
      ]
     },
     "execution_count": 35,
     "metadata": {},
     "output_type": "execute_result"
    }
   ],
   "source": [
    "#slicing\n",
    "text5[16715:16717]\n",
    "#Means :: [16715:16717)"
   ]
  },
  {
   "cell_type": "code",
   "execution_count": 37,
   "metadata": {},
   "outputs": [],
   "source": [
    "#for more \n",
    "sent = ['word1','word2','word3','word4','word5','word6','word7','word8','word9','word10',]"
   ]
  },
  {
   "cell_type": "code",
   "execution_count": 45,
   "metadata": {},
   "outputs": [
    {
     "name": "stdout",
     "output_type": "stream",
     "text": [
      "word1\n",
      "['word2', 'word3', 'word4', 'word5']\n",
      "['word6', 'word7', 'word8', 'word9', 'word10']\n"
     ]
    },
    {
     "ename": "IndexError",
     "evalue": "list index out of range",
     "output_type": "error",
     "traceback": [
      "\u001b[0;31m---------------------------------------------------------------------------\u001b[0m",
      "\u001b[0;31mIndexError\u001b[0m                                Traceback (most recent call last)",
      "\u001b[0;32m<ipython-input-45-256793f4e45d>\u001b[0m in \u001b[0;36m<module>\u001b[0;34m\u001b[0m\n\u001b[1;32m      6\u001b[0m \u001b[0;31m#sent[m:n] means sent[m],sent[m+1]....sent[n-1]\u001b[0m\u001b[0;34m\u001b[0m\u001b[0;34m\u001b[0m\u001b[0;34m\u001b[0m\u001b[0m\n\u001b[1;32m      7\u001b[0m \u001b[0;31m#error for out of index\u001b[0m\u001b[0;34m\u001b[0m\u001b[0;34m\u001b[0m\u001b[0;34m\u001b[0m\u001b[0m\n\u001b[0;32m----> 8\u001b[0;31m \u001b[0mprint\u001b[0m\u001b[0;34m(\u001b[0m\u001b[0msent\u001b[0m\u001b[0;34m[\u001b[0m\u001b[0;36m10\u001b[0m\u001b[0;34m]\u001b[0m\u001b[0;34m)\u001b[0m\u001b[0;34m\u001b[0m\u001b[0;34m\u001b[0m\u001b[0m\n\u001b[0m",
      "\u001b[0;31mIndexError\u001b[0m: list index out of range"
     ]
    }
   ],
   "source": [
    "print(sent[0])\n",
    "#to print element from index 1 to 4\n",
    "print(sent[1:5])\n",
    "#to print all the elements from 5 to last\n",
    "print(sent[5:])\n",
    "#sent[m:n] means sent[m],sent[m+1]....sent[n-1]\n",
    "#error for out of index\n",
    "print(sent[10])"
   ]
  },
  {
   "cell_type": "code",
   "execution_count": 49,
   "metadata": {},
   "outputs": [
    {
     "name": "stdout",
     "output_type": "stream",
     "text": [
      "lenght after modification :: \n",
      "10\n",
      "list after modification :: \n",
      "['first', 'last', 'word3', 'word4', 'word5', 'word6', 'word7', 'word8', 'word9', 'last']\n",
      "lenght after modify a range of element ::\n",
      "4\n",
      "list after modify a range of element :: \n",
      "['first', 'second', 'third', 'last']\n"
     ]
    }
   ],
   "source": [
    "#chnage or modify the items\n",
    "sent[0] = 'first'\n",
    "sent[9] = 'last'\n",
    "print('lenght after modification :: ')\n",
    "print(len(sent))\n",
    "print('list after modification :: ')\n",
    "print(sent)\n",
    "#let's replace a range of item with new items\n",
    "sent[1:9] = ['second','third']\n",
    "print('lenght after modify a range of element ::')\n",
    "print(len(sent))\n",
    "print('list after modify a range of element :: ')\n",
    "print(sent)"
   ]
  },
  {
   "cell_type": "code",
   "execution_count": 51,
   "metadata": {},
   "outputs": [
    {
     "name": "stdout",
     "output_type": "stream",
     "text": [
      "d\n",
      "y mohan\n",
      "divay mohandivay mohan\n",
      "divay mohan !\n",
      "divay mohan\n",
      "['divay', 'mohan']\n"
     ]
    }
   ],
   "source": [
    "#string manipulation\n",
    "name = 'divay mohan'\n",
    "#print a char by index\n",
    "print(name[0])\n",
    "#print a slice of characters\n",
    "print(name[4:])\n",
    "#print name 2 times\n",
    "print(name*2)\n",
    "#print name after concatenation\n",
    "print(name + ' !')\n",
    "#make single word from list of words using join\n",
    "print(' '.join(['divay','mohan']))\n",
    "#split a sentance using space\n",
    "print('divay mohan'.split())"
   ]
  }
 ],
 "metadata": {
  "kernelspec": {
   "display_name": "Python 3",
   "language": "python",
   "name": "python3"
  },
  "language_info": {
   "codemirror_mode": {
    "name": "ipython",
    "version": 3
   },
   "file_extension": ".py",
   "mimetype": "text/x-python",
   "name": "python",
   "nbconvert_exporter": "python",
   "pygments_lexer": "ipython3",
   "version": "3.7.3"
  }
 },
 "nbformat": 4,
 "nbformat_minor": 2
}
